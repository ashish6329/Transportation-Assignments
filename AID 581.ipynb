{
 "cells": [
  {
   "cell_type": "code",
   "execution_count": 2,
   "id": "71f3c4d7",
   "metadata": {},
   "outputs": [
    {
     "name": "stdout",
     "output_type": "stream",
     "text": [
      "Name:Ashish Varshney\n",
      "Enrollment No:21565004\n"
     ]
    }
   ],
   "source": [
    "print(\"Name:Ashish Varshney\")\n",
    "print(\"Enrollment No:21565004\")\n",
    "    "
   ]
  },
  {
   "cell_type": "code",
   "execution_count": 1,
   "id": "89b629d5",
   "metadata": {},
   "outputs": [
    {
     "data": {
      "image/png": "[encoded data removed]",
      "text/plain": [
       "<Figure size 432x288 with 1 Axes>"
      ]
     },
     "metadata": {},
     "output_type": "display_data"
    }
   ],
   "source": [
    "import pandas as pd\n",
    "import matplotlib.pyplot as plt\n",
    "import numpy as np\n",
    "import matplotlib.ticker as ticker\n",
    "import seaborn as sns\n",
    "ak=pd.read_csv(\"USA_Housing.csv\")\n",
    "sur=ak.Price\n",
    "sns.set_theme(style=\"darkgrid\")\n",
    "sns.countplot(x=\"Price\", data=ak,palette=\"Set1\")\n",
    "\n",
    "plt.xticks(rotation=0)\n",
    "plt.yticks(rotation=0)\n",
    "plt.show()\n"
   ]
  },
  {
   "cell_type": "code",
   "execution_count": null,
   "id": "aff31a18",
   "metadata": {},
   "outputs": [],
   "source": [
    "#Ques1 What weekdays have the most and fewest accidents?\n",
    "import pandas as pd\n",
    "import matplotlib.pyplot as plt\n",
    "import numpy as np\n",
    "import matplotlib.ticker as ticker\n",
    "ak=pd.read_csv(\"Road Safety Data - Accidents 2019.csv\")\n",
    "fd=ak.Day_of_Week\n",
    "labels=['Sunday','Monday','Tuesday','Wednesday','Thursday','Friday'\n",
    "        ,'Saturday']\n",
    "# here i used label on days 1-sunday 2-monday 3-tuesday 4-wednesday 5-thursday 6-friday 7-saturday\n",
    "print(\"Solution\\n\")\n",
    "print(\"1-sunday 2-monday 3-tuesday 4-wednesday 5-thursday 6-friday 7-saturday\")\n",
    "print(\"Weekdays have the most accidents is\",labels[max(fd)-1])\n",
    "print(\"Weekdays have the fewest accidents is\",labels[min(fd)-1])"
   ]
  },
  {
   "cell_type": "code",
   "execution_count": 2,
   "id": "880a592f",
   "metadata": {},
   "outputs": [
    {
     "name": "stdout",
     "output_type": "stream",
     "text": [
      "Solution\n",
      "\n",
      "mean number of vehicles involved in an accident 1.840976381704329\n",
      "median number of vehicles involved in an accident 2.0\n"
     ]
    }
   ],
   "source": [
    "# Ques2 What are the mean and median number of vehicles involved in an accident?\n",
    "import pandas as pd\n",
    "import statistics\n",
    "ak=pd.read_csv(\"Road Safety Data - Accidents 2019.csv\") \n",
    "#ak.Number_of_vechiles.mean()\n",
    "#print(ak.Number_of_Vehicles)\n",
    "x = statistics.mean(ak.Number_of_Vehicles)\n",
    "y = statistics.median(ak.Number_of_Vehicles)\n",
    "print(\"Solution\\n\")\n",
    "print('mean number of vehicles involved in an accident',x)\n",
    "print('median number of vehicles involved in an accident',y)"
   ]
  },
  {
   "cell_type": "code",
   "execution_count": 5,
   "id": "61cdd2b8",
   "metadata": {},
   "outputs": [
    {
     "name": "stdout",
     "output_type": "stream",
     "text": [
      "Solution\n",
      "\n"
     ]
    },
    {
     "data": {
      "image/png": "[encoded data removed]",
      "text/plain": [
       "<Figure size 432x288 with 1 Axes>"
      ]
     },
     "metadata": {
      "needs_background": "light"
     },
     "output_type": "display_data"
    }
   ],
   "source": [
    "# Ques3 Plot a histogram showing accident distribution by time of day.\n",
    "import pandas as pd\n",
    "import matplotlib.pyplot as plt\n",
    "import numpy as np\n",
    "import matplotlib.ticker as ticker\n",
    "import datetime\n",
    "import matplotlib.dates as mdates\n",
    "ak=pd.read_csv(\"Road Safety Data - Accidents 2019.csv\")\n",
    "df=ak.Time\n",
    "time_var=pd.to_datetime(df, format='%H:%M')\n",
    "ax=time_var.hist(bins=24, ec='red')\n",
    "ax.xaxis.set_major_formatter(mdates.DateFormatter('%H:%M'))\n",
    "plt.xlabel(\"Day of Week\",size=12)\n",
    "plt.ylabel(\"Number of Accidents\",size=12)\n",
    "plt.title(\"Accident Distribution\",size=14)\n",
    "plt.xticks(rotation=65)\n",
    "print(\"Solution\\n\")\n",
    "plt.show()"
   ]
  },
  {
   "cell_type": "code",
   "execution_count": 6,
   "id": "6e9b65ff",
   "metadata": {},
   "outputs": [
    {
     "name": "stdout",
     "output_type": "stream",
     "text": [
      "Solution\n",
      "\n",
      "Percentage of the UK’s accidents happen in Local_Authority_(District) 23 = 0.2867206643071059\n"
     ]
    }
   ],
   "source": [
    "\"\"\"\"Ques 5:What percentage of the UK’s accidents happen in \n",
    "           Local_Authority_District XYZ? They XYZ is sum of \n",
    "           the digits in your enrollment number\"\"\"\n",
    "import pandas as pd\n",
    "import matplotlib.pyplot as plt\n",
    "#pd.set_option('display.max_rows', None)\n",
    "ak=pd.read_csv(\"Road Safety Data - Accidents 2019.csv\")\n",
    "fd=ak.Local_Authority_District.count()\n",
    "#fd\n",
    "# Enrollment no 21565004\n",
    "\n",
    "sum=2+1+5+6+5+0+0+4\n",
    "count=0\n",
    "for i in ak.Local_Authority_District:\n",
    "    if(i==sum):\n",
    "        count=count+1\n",
    "x=(float(count)/float(fd))*100\n",
    "print(\"Solution\\n\")\n",
    "print(\"Percentage of the UK’s accidents happen in Local_Authority_(District)\"\n",
    "      ,sum,\"=\",x)"
   ]
  },
  {
   "cell_type": "code",
   "execution_count": null,
   "id": "86fe7bd8",
   "metadata": {},
   "outputs": [],
   "source": [
    "import pandas as pd\n",
    "import matplotlib.pyplot as plt\n",
    "fig=plt.figure()\n",
    "ak=pd.read_csv(\"Road Safety Data - Accidents 2019.csv\")\n",
    "y=ak.Speed_limit\n",
    "x=ak.Number_of_Casualties\n",
    "ax=fig.add_axes([0,0,1,1])\n",
    "ax.bar(x,y)\n",
    "plt.show()\n",
    "\n"
   ]
  }
 ],
 "metadata": {
  "kernelspec": {
   "display_name": "Python 3",
   "language": "python",
   "name": "python3"
  },
  "language_info": {
   "codemirror_mode": {
    "name": "ipython",
    "version": 3
   },
   "file_extension": ".py",
   "mimetype": "text/x-python",
   "name": "python",
   "nbconvert_exporter": "python",
   "pygments_lexer": "ipython3",
   "version": "3.8.8"
  }
 },
 "nbformat": 4,
 "nbformat_minor": 5
}
